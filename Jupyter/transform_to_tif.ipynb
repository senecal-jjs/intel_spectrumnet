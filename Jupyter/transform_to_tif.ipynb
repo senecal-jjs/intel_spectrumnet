{
 "cells": [
  {
   "cell_type": "code",
   "execution_count": null,
   "metadata": {},
   "outputs": [],
   "source": [
    "import numpy as np\n",
    "import matplotlib.pyplot as plt\n",
    "import os\n",
    "import pickle\n",
    "from skimage.io import imsave\n",
    "import rasterio\n",
    "import sys\n",
    "from collections import defaultdict\n",
    "import re\n",
    "\n",
    "sys.path.append(\"../\")\n",
    "from Utils import utils\n"
   ]
  },
  {
   "cell_type": "markdown",
   "metadata": {},
   "source": [
    "## load pickled arrays"
   ]
  },
  {
   "cell_type": "code",
   "execution_count": null,
   "metadata": {},
   "outputs": [],
   "source": [
    "with open(\"avocado_old.p\", 'rb') as f:\n",
    "    images = pickle.load(f)"
   ]
  },
  {
   "cell_type": "markdown",
   "metadata": {},
   "source": [
    "## load bil files"
   ]
  },
  {
   "cell_type": "code",
   "execution_count": null,
   "metadata": {},
   "outputs": [],
   "source": [
    "path = '/media/jsen/SanDisk/Repos/intel_spectrumnet/data/BIL'\n",
    "folders = os.listdir(path)\n",
    "#files = [os.path.join(path,f) for f in os.listdir(path) if os.path.isfile(os.path.join(path, f))]"
   ]
  },
  {
   "cell_type": "code",
   "execution_count": null,
   "metadata": {},
   "outputs": [],
   "source": [
    "images = defaultdict(list)\n",
    "for f in folders[10:]:\n",
    "    files =os.listdir(os.path.join(path, f))# [f in os.listdir(os.path.join(path, f)) if f[-3:] != 'hdr']\n",
    "    day = int(re.search(r'\\d+', f).group())\n",
    "    print(day)\n",
    "    for i in files:\n",
    "#         print(i)\n",
    "#         day = int(f[-1])\n",
    "#         images[day].append(utils.convert_bil_to_array(os.path.join(path, f, i)))\n",
    "        try:\n",
    "            day = int(re.search(r'\\d+', f).group())\n",
    "            images[day].append(utils.convert_bil_to_array(os.path.join(path, f, i)))\n",
    "        except:\n",
    "            print(i)\n",
    "    "
   ]
  },
  {
   "cell_type": "code",
   "execution_count": null,
   "metadata": {},
   "outputs": [],
   "source": [
    "cal_imgs = []\n",
    "\n",
    "with open(\"spectralon.p\", \"rb\") as f:\n",
    "    panel = pickle.load(f)\n",
    "\n",
    "for img in images[21]:\n",
    "    cal = utils.calibrate(panel, img)\n",
    "    cal_imgs.append(cal)"
   ]
  },
  {
   "cell_type": "code",
   "execution_count": null,
   "metadata": {},
   "outputs": [],
   "source": [
    "print(cal_imgs[0].shape)\n",
    "print(len(cal_imgs))"
   ]
  },
  {
   "cell_type": "code",
   "execution_count": null,
   "metadata": {},
   "outputs": [],
   "source": [
    "w = 10\n",
    "h = 10\n",
    "fig = plt.figure(figsize=(9, 13))\n",
    "columns = 3\n",
    "rows = 3\n",
    "\n",
    "# ax enables access to manipulate each of subplots\n",
    "ax = []\n",
    "\n",
    "for i in range( columns*rows ):\n",
    "    img = cal_imgs[i][:,:,150]\n",
    "    # create subplot and append to ax\n",
    "    ax.append( fig.add_subplot(rows, columns, i+1) )\n",
    "    #ax[-1].set_title(\"ax:\"+str(i))  # set title\n",
    "    plt.imshow(img)\n",
    "\n",
    "plt.show()  # finally, render the plot\n",
    "#fig.savefig('avocado_day_8.jpeg', dpi=600, format='jpeg')"
   ]
  },
  {
   "cell_type": "code",
   "execution_count": null,
   "metadata": {},
   "outputs": [],
   "source": [
    "index = 10"
   ]
  },
  {
   "cell_type": "code",
   "execution_count": null,
   "metadata": {},
   "outputs": [],
   "source": [
    "day = 'old'\n",
    "\n",
    "for img in cal_imgs:\n",
    "    path = \"/media/jsen/SanDisk/Repos/intel_spectrumnet/data/Avocado_3class\"\n",
    "    if not os.path.isdir(os.path.join(path, day)):\n",
    "        os.mkdir(os.path.join(path, day))\n",
    "        \n",
    "    fname = \"avocado_\" + str(index) + \".tiff\"\n",
    "    index += 1\n",
    "    fname = os.path.join(path, day, fname)\n",
    "    imsave(fname, img, plugin=\"tifffile\", photometric='minisblack', planarconfig='contig')"
   ]
  },
  {
   "cell_type": "code",
   "execution_count": null,
   "metadata": {},
   "outputs": [],
   "source": [
    "print(index)"
   ]
  },
  {
   "cell_type": "markdown",
   "metadata": {},
   "source": [
    "## Display an image"
   ]
  },
  {
   "cell_type": "code",
   "execution_count": null,
   "metadata": {},
   "outputs": [],
   "source": [
    "sample = []\n",
    "with rasterio.open(\"Images/Fresh/avocado_2.tiff\") as src:\n",
    "    for b in range(20, 30):\n",
    "        sample.append(src.read(b))\n",
    "\n",
    "sample = np.stack(sample, axis=2).astype(\"float32\")"
   ]
  },
  {
   "cell_type": "code",
   "execution_count": null,
   "metadata": {},
   "outputs": [],
   "source": [
    "print(sample.shape)"
   ]
  },
  {
   "cell_type": "code",
   "execution_count": null,
   "metadata": {},
   "outputs": [],
   "source": [
    "plt.imshow(sample[:,:,9])"
   ]
  },
  {
   "cell_type": "code",
   "execution_count": null,
   "metadata": {},
   "outputs": [],
   "source": [
    "rgb_img = calibration.get_plottable_rgb(sample)\n",
    "plt.imshow(rgb_img)"
   ]
  },
  {
   "cell_type": "code",
   "execution_count": null,
   "metadata": {},
   "outputs": [],
   "source": [
    "rgb_img = calibration.get_plottable_rgb(cal_imgs[0])\n",
    "plt.imshow(rgb_img)"
   ]
  },
  {
   "cell_type": "code",
   "execution_count": null,
   "metadata": {},
   "outputs": [],
   "source": []
  }
 ],
 "metadata": {
  "kernelspec": {
   "display_name": "Python 3",
   "language": "python",
   "name": "python3"
  },
  "language_info": {
   "codemirror_mode": {
    "name": "ipython",
    "version": 3
   },
   "file_extension": ".py",
   "mimetype": "text/x-python",
   "name": "python",
   "nbconvert_exporter": "python",
   "pygments_lexer": "ipython3",
   "version": "3.7.1"
  }
 },
 "nbformat": 4,
 "nbformat_minor": 2
}
